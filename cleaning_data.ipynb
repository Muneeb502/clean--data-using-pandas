{
 "cells": [
  {
   "cell_type": "code",
   "execution_count": 1,
   "id": "98bc8f9a-bfe5-4035-8004-d9e079b262d7",
   "metadata": {},
   "outputs": [],
   "source": [
    "import pandas as pd"
   ]
  },
  {
   "cell_type": "code",
   "execution_count": 2,
   "id": "0c82f787-66df-439f-9276-447f139bea3b",
   "metadata": {},
   "outputs": [],
   "source": [
    "df = pd.read_csv(\"unleandata.csv\")"
   ]
  },
  {
   "cell_type": "code",
   "execution_count": 3,
   "id": "8c1e5dbc-8533-4bd4-9575-90225dc2437f",
   "metadata": {},
   "outputs": [
    {
     "name": "stdout",
     "output_type": "stream",
     "text": [
      "          country continent  year  lifeExp       pop   gdpPercap iso_alpha\n",
      "0     Afghanistan      Asia  1952   28.801   8425333  779.445314       AFG\n",
      "1     Afghanistan      Asia  1957   30.332   9240934  820.853030       AFG\n",
      "2     Afghanistan      Asia  1962   31.997  10267083  853.100710       AFG\n",
      "3     Afghanistan      Asia  1967   34.020  11537966  836.197138       AFG\n",
      "4     Afghanistan      Asia  1972   36.088  13079460  739.981106       AFG\n",
      "...           ...       ...   ...      ...       ...         ...       ...\n",
      "1699     Zimbabwe    Africa  1987   62.351   9216418  706.157306       ZWE\n",
      "1700     Zimbabwe    Africa  1992   60.377  10704340  693.420786       ZWE\n",
      "1701     Zimbabwe    Africa  1997   46.809  11404948  792.449960       ZWE\n",
      "1702     Zimbabwe    Africa  2002   39.989  11926563  672.038623       ZWE\n",
      "1703     Zimbabwe    Africa  2007   43.487  12311143  469.709298       ZWE\n",
      "\n",
      "[1704 rows x 7 columns]\n"
     ]
    }
   ],
   "source": [
    "print(df)"
   ]
  },
  {
   "cell_type": "code",
   "execution_count": null,
   "id": "bdbd4003-40cb-4a05-a49e-f21a9f0fd676",
   "metadata": {},
   "outputs": [],
   "source": []
  }
 ],
 "metadata": {
  "kernelspec": {
   "display_name": "Python 3 (ipykernel)",
   "language": "python",
   "name": "python3"
  },
  "language_info": {
   "codemirror_mode": {
    "name": "ipython",
    "version": 3
   },
   "file_extension": ".py",
   "mimetype": "text/x-python",
   "name": "python",
   "nbconvert_exporter": "python",
   "pygments_lexer": "ipython3",
   "version": "3.12.1"
  }
 },
 "nbformat": 4,
 "nbformat_minor": 5
}
